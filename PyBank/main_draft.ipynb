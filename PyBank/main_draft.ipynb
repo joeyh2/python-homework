{
 "cells": [
  {
   "cell_type": "code",
   "execution_count": 1,
   "id": "29fc5f5d-846b-40a9-81a9-8c62849ee588",
   "metadata": {},
   "outputs": [],
   "source": [
    "# Import the pathlib and csv library\n",
    "from pathlib import Path\n",
    "import csv"
   ]
  },
  {
   "cell_type": "code",
   "execution_count": 2,
   "id": "fc14491a-743b-462d-adc8-fab1244e97c4",
   "metadata": {},
   "outputs": [],
   "source": [
    "# Set file path\n",
    "csvpath = Path(\"Resources/budget_data.csv\")"
   ]
  },
  {
   "cell_type": "code",
   "execution_count": 3,
   "id": "058b8dce-9148-4351-bb68-1bc43d08d459",
   "metadata": {},
   "outputs": [
    {
     "ename": "FileNotFoundError",
     "evalue": "[Errno 2] No such file or directory: 'Resources/budget_data.csv'",
     "output_type": "error",
     "traceback": [
      "\u001b[0;31m---------------------------------------------------------------------------\u001b[0m",
      "\u001b[0;31mFileNotFoundError\u001b[0m                         Traceback (most recent call last)",
      "\u001b[0;32m<ipython-input-3-172837a2a191>\u001b[0m in \u001b[0;36m<module>\u001b[0;34m\u001b[0m\n\u001b[1;32m      8\u001b[0m \u001b[0;34m\u001b[0m\u001b[0m\n\u001b[1;32m      9\u001b[0m \u001b[0;31m# Open input path as a file object\u001b[0m\u001b[0;34m\u001b[0m\u001b[0;34m\u001b[0m\u001b[0;34m\u001b[0m\u001b[0m\n\u001b[0;32m---> 10\u001b[0;31m \u001b[0;32mwith\u001b[0m \u001b[0mopen\u001b[0m \u001b[0;34m(\u001b[0m\u001b[0mcsvpath\u001b[0m\u001b[0;34m,\u001b[0m \u001b[0;34m'r'\u001b[0m\u001b[0;34m)\u001b[0m \u001b[0;32mas\u001b[0m \u001b[0mcsvfile\u001b[0m\u001b[0;34m:\u001b[0m\u001b[0;34m\u001b[0m\u001b[0;34m\u001b[0m\u001b[0m\n\u001b[0m\u001b[1;32m     11\u001b[0m \u001b[0;34m\u001b[0m\u001b[0m\n\u001b[1;32m     12\u001b[0m     \u001b[0;31m# Pass in csv file to csv.reader() function\u001b[0m\u001b[0;34m\u001b[0m\u001b[0;34m\u001b[0m\u001b[0;34m\u001b[0m\u001b[0m\n",
      "\u001b[0;31mFileNotFoundError\u001b[0m: [Errno 2] No such file or directory: 'Resources/budget_data.csv'"
     ]
    }
   ],
   "source": [
    "# Initialize first variables to hold budget data\n",
    "months = []\n",
    "total_months = 0\n",
    "net_profit_loss = 0\n",
    "average_change_pl = []\n",
    "greatest_inc_profit = [\"\", 0]\n",
    "greatest_dec_profit = [\"\",999999999]\n",
    "\n",
    "# Open input path as a file object\n",
    "with open (csvpath, 'r') as csvfile:\n",
    "    \n",
    "    # Pass in csv file to csv.reader() function \n",
    "    # with ',' as delimiter\n",
    "    csvreader =  csv.reader(csvfile, delimiter = ',')\n",
    "    \n",
    "    # Assign header\n",
    "    header = next(csvreader)\n",
    "    \n",
    "    # Assign first row and update total_months and net_profit_loss (as integer) with first row values\n",
    "    first_row = next(csvreader)\n",
    "    total_months += 1\n",
    "    net_profit_loss += int(first_row[1])\n",
    "    \n",
    "    # Set prev_value to first row's p/l data as integer\n",
    "    prev_value = int(first_row[1])\n",
    "    \n",
    "    # Initialize for loop\n",
    "    for row in csvreader:\n",
    "        \n",
    "        # Iterate over rows to update total_months and net_profit_loss (as integer)\n",
    "        total_months += 1\n",
    "        net_profit_loss += int(row[1])\n",
    "        \n",
    "        # Create/update net_change variable and add each iterance to average_change_pl \n",
    "        net_change = int(row[1]) - prev_value\n",
    "        average_change_pl.append(net_change)\n",
    "        \n",
    "        # Set prev_value to update to a given row's p/l data as integer at end of each iterance\n",
    "        prev_value = int(row[1])\n",
    "        \n",
    "        # Create conditional to update or retain date and p/l of greatest increase in profit\n",
    "        # Updates to data of row being iterated only if net_change greater than retained greatest_inc_profit\n",
    "        if net_change > greatest_inc_profit[1]: \n",
    "            greatest_inc_profit[0] = row[0]\n",
    "            greatest_inc_profit[1] = net_change\n",
    "       \n",
    "        # Create conditional that updates or retains date and p/l of greatest decrease in profit \n",
    "        # Updates to data of row being iterated only if net_change less than retained greatest_dec_profit\n",
    "        if net_change < greatest_dec_profit[1]:\n",
    "            greatest_dec_profit[0] = row[0]\n",
    "            greatest_dec_profit[1] = net_change\n",
    "\n",
    "# Calculate average in changes in profit/losses for entire period\n",
    "average_change_pl = sum(average_change_pl) / len(average_change_pl)\n",
    "print(round(average_change_pl, 2))\n",
    "\n",
    "# Display analysis by printing variables        \n",
    "print(f'Total Months: {total_months}')\n",
    "print(f'Total: {net_profit_loss}')\n",
    "print(average_change_pl)\n",
    "print(greatest_inc_profit)\n",
    "print(greatest_dec_profit)\n",
    "print(round(avg,2))"
   ]
  },
  {
   "cell_type": "code",
   "execution_count": 45,
   "id": "eb11f2c0-6ae8-4f40-a1bc-e78c3711aae4",
   "metadata": {},
   "outputs": [
    {
     "name": "stdout",
     "output_type": "stream",
     "text": [
      "['Date', 'Profit/Losses']\n",
      "['Jan-2010', '867884']\n"
     ]
    }
   ],
   "source": [
    "print(header)\n",
    "print(first_row)\n",
    "#print(header, '\\n' '-------------------------')"
   ]
  },
  {
   "cell_type": "code",
   "execution_count": 47,
   "id": "ed84dadb-d223-4a01-8bff-2f15161b285f",
   "metadata": {},
   "outputs": [
    {
     "ename": "SyntaxError",
     "evalue": "invalid syntax (<ipython-input-47-62122d5464b0>, line 1)",
     "output_type": "error",
     "traceback": [
      "\u001b[0;36m  File \u001b[0;32m\"<ipython-input-47-62122d5464b0>\"\u001b[0;36m, line \u001b[0;32m1\u001b[0m\n\u001b[0;31m    ```text\u001b[0m\n\u001b[0m    ^\u001b[0m\n\u001b[0;31mSyntaxError\u001b[0m\u001b[0;31m:\u001b[0m invalid syntax\n"
     ]
    }
   ],
   "source": [
    "```text\n",
    "  Financial Analysis\n",
    "  ----------------------------\n",
    "  Total Months: 86\n",
    "  Total: $38382578\n",
    "  Average  Change: $-2315.12\n",
    "  Greatest Increase in Profits: Feb-2012 ($1926159)\n",
    "  Greatest Decrease in Profits: Sep-2013 ($-2196167)'''"
   ]
  },
  {
   "cell_type": "code",
   "execution_count": null,
   "id": "102d1554-31c2-4e5f-9d16-e0f96fdad164",
   "metadata": {},
   "outputs": [],
   "source": []
  }
 ],
 "metadata": {
  "kernelspec": {
   "display_name": "Python 3",
   "language": "python",
   "name": "python3"
  },
  "language_info": {
   "codemirror_mode": {
    "name": "ipython",
    "version": 3
   },
   "file_extension": ".py",
   "mimetype": "text/x-python",
   "name": "python",
   "nbconvert_exporter": "python",
   "pygments_lexer": "ipython3",
   "version": "3.8.8"
  }
 },
 "nbformat": 4,
 "nbformat_minor": 5
}
