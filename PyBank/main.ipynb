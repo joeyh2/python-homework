{
 "cells": [
  {
   "cell_type": "code",
   "execution_count": 1,
   "id": "29fc5f5d-846b-40a9-81a9-8c62849ee588",
   "metadata": {},
   "outputs": [],
   "source": [
    "# Import the pathlib and csv library\n",
    "from pathlib import Path\n",
    "import csv"
   ]
  },
  {
   "cell_type": "code",
   "execution_count": 2,
   "id": "fc14491a-743b-462d-adc8-fab1244e97c4",
   "metadata": {},
   "outputs": [],
   "source": [
    "# Set file path\n",
    "csvpath = Path(\"Resources/budget_data.csv\")"
   ]
  },
  {
   "cell_type": "code",
   "execution_count": 3,
   "id": "058b8dce-9148-4351-bb68-1bc43d08d459",
   "metadata": {},
   "outputs": [
    {
     "name": "stdout",
     "output_type": "stream",
     "text": [
      "Financial Analysis\n",
      "------------------\n",
      " \n",
      "Total Months: 86\n",
      " \n",
      "Total: $38382578\n",
      "  \n",
      "Average Change: $-2315.12\n",
      "\n",
      "Greatest Increase in Profits: Feb-2012 ($1926159)\n",
      "\n",
      "Greatest Decrease in Profits: Sep-2013 ($-2196167)\n"
     ]
    }
   ],
   "source": [
    "# Initialize first variables to hold budget data\n",
    "months = []\n",
    "total_months = 0\n",
    "net_profit_loss = 0\n",
    "average_change_pl = []\n",
    "greatest_inc_profit = [\"\", 0]\n",
    "greatest_dec_profit = [\"\",999999999]\n",
    "\n",
    "# Open input path as a file object\n",
    "with open (csvpath, 'r') as csvfile:\n",
    "    \n",
    "    # Pass in csv file to csv.reader() function \n",
    "    # with ',' as delimiter\n",
    "    csvreader =  csv.reader(csvfile, delimiter = ',')\n",
    "    \n",
    "    # Assign header\n",
    "    header = next(csvreader)\n",
    "    \n",
    "    # Assign first row and update total_months and net_profit_loss (as integer) with first row values\n",
    "    first_row = next(csvreader)\n",
    "    total_months += 1\n",
    "    net_profit_loss += int(first_row[1])\n",
    "    \n",
    "    # Set prev_value to first row's p/l data as integer\n",
    "    prev_value = int(first_row[1])\n",
    "    \n",
    "    # Initialize for loop to iterate rows\n",
    "    for row in csvreader:\n",
    "        \n",
    "        # Update total_months and net_profit_loss (as integer)\n",
    "        total_months += 1\n",
    "        net_profit_loss += int(row[1])\n",
    "        \n",
    "        # Create/update net_change variable and add each iterance to average_change_pl \n",
    "        net_change = int(row[1]) - prev_value\n",
    "        average_change_pl.append(net_change)\n",
    "        \n",
    "        # Set prev_value to update to given row's p/l data as integer at end of each iterance\n",
    "        prev_value = int(row[1])\n",
    "        \n",
    "        # Create conditional to update or retain date and p/l of greatest increase in profit\n",
    "        if net_change > greatest_inc_profit[1]: \n",
    "            greatest_inc_profit[0] = row[0]\n",
    "            greatest_inc_profit[1] = net_change\n",
    "       \n",
    "        # Create conditional that updates or retains date and p/l of greatest decrease in profit \n",
    "        if net_change < greatest_dec_profit[1]:\n",
    "            greatest_dec_profit[0] = row[0]\n",
    "            greatest_dec_profit[1] = net_change\n",
    "\n",
    "# Calculate average in changes in profit/losses for entire period to 2 decimal places\n",
    "average_change_pl = round(sum(average_change_pl) / len(average_change_pl), 2)\n",
    "\n",
    "# Assign metrics to variable \"results\"\n",
    "results = f'''Financial Analysis\\n------------------\\n \n",
    "Total Months: {total_months}\\n \n",
    "Total: ${net_profit_loss}\\n  \n",
    "Average Change: ${average_change_pl}\\n\n",
    "Greatest Increase in Profits: {greatest_inc_profit[0]} (${greatest_inc_profit[1]})\\n\n",
    "Greatest Decrease in Profits: {greatest_dec_profit[0]} (${greatest_dec_profit[1]})'''\n",
    "\n",
    "# Display results in terminal\n",
    "print(results)"
   ]
  },
  {
   "cell_type": "code",
   "execution_count": 4,
   "id": "102d1554-31c2-4e5f-9d16-e0f96fdad164",
   "metadata": {},
   "outputs": [],
   "source": [
    "# Export results of analysis to text file\n",
    "output_path = Path('PyBank.txt')\n",
    "with open(output_path, 'w') as file:\n",
    "    file.write(results)"
   ]
  }
 ],
 "metadata": {
  "kernelspec": {
   "display_name": "Python 3",
   "language": "python",
   "name": "python3"
  },
  "language_info": {
   "codemirror_mode": {
    "name": "ipython",
    "version": 3
   },
   "file_extension": ".py",
   "mimetype": "text/x-python",
   "name": "python",
   "nbconvert_exporter": "python",
   "pygments_lexer": "ipython3",
   "version": "3.8.8"
  }
 },
 "nbformat": 4,
 "nbformat_minor": 5
}
